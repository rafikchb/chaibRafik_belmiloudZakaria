{
 "cells": [
  {
   "cell_type": "markdown",
   "id": "simplified-musical",
   "metadata": {},
   "source": [
    "### L’algorithme utiliser  pour le clustring est le k-mean"
   ]
  },
  {
   "cell_type": "markdown",
   "id": "clinical-creek",
   "metadata": {},
   "source": [
    "# Question 2.1 "
   ]
  },
  {
   "cell_type": "code",
   "execution_count": 1,
   "id": "renewable-coating",
   "metadata": {},
   "outputs": [],
   "source": [
    "import pandas as pd \n",
    "rawDfPh3 = pd.read_csv(\"files/Phase3.csv\")"
   ]
  },
  {
   "cell_type": "markdown",
   "id": "equivalent-scenario",
   "metadata": {},
   "source": [
    "### Description  des donner  "
   ]
  },
  {
   "cell_type": "code",
   "execution_count": 2,
   "id": "pregnant-challenge",
   "metadata": {
    "scrolled": false
   },
   "outputs": [
    {
     "name": "stdout",
     "output_type": "stream",
     "text": [
      "<class 'pandas.core.frame.DataFrame'>\n",
      "RangeIndex: 22544 entries, 0 to 22543\n",
      "Data columns (total 41 columns):\n",
      " #   Column                       Non-Null Count  Dtype  \n",
      "---  ------                       --------------  -----  \n",
      " 0   duration                     22544 non-null  int64  \n",
      " 1   protocol_type                22544 non-null  object \n",
      " 2   service                      22544 non-null  object \n",
      " 3   flag                         22544 non-null  object \n",
      " 4   src_bytes                    22544 non-null  int64  \n",
      " 5   dst_bytes                    22544 non-null  int64  \n",
      " 6   land                         22544 non-null  int64  \n",
      " 7   wrong_fragment               22544 non-null  int64  \n",
      " 8   urgent                       22544 non-null  int64  \n",
      " 9   hot                          22544 non-null  int64  \n",
      " 10  num_failed_logins            22544 non-null  int64  \n",
      " 11  logged_in                    22544 non-null  int64  \n",
      " 12  num_compromised              22544 non-null  int64  \n",
      " 13  root_shell                   22544 non-null  int64  \n",
      " 14  su_attempted                 22544 non-null  int64  \n",
      " 15  num_root                     22544 non-null  int64  \n",
      " 16  num_file_creations           22544 non-null  int64  \n",
      " 17  num_shells                   22544 non-null  int64  \n",
      " 18  num_access_files             22544 non-null  int64  \n",
      " 19  num_outbound_cmds            22544 non-null  int64  \n",
      " 20  is_host_login                22544 non-null  int64  \n",
      " 21  is_guest_login               22544 non-null  int64  \n",
      " 22  count                        22544 non-null  int64  \n",
      " 23  srv_count                    22544 non-null  int64  \n",
      " 24  serror_rate                  22544 non-null  float64\n",
      " 25  srv_serror_rate              22544 non-null  float64\n",
      " 26  rerror_rate                  22544 non-null  float64\n",
      " 27  srv_rerror_rate              22544 non-null  float64\n",
      " 28  same_srv_rate                22544 non-null  float64\n",
      " 29  diff_srv_rate                22544 non-null  float64\n",
      " 30  srv_diff_host_rate           22544 non-null  float64\n",
      " 31  dst_host_count               22544 non-null  int64  \n",
      " 32  dst_host_srv_count           22544 non-null  int64  \n",
      " 33  dst_host_same_srv_rate       22544 non-null  float64\n",
      " 34  dst_host_diff_srv_rate       22544 non-null  float64\n",
      " 35  dst_host_same_src_port_rate  22544 non-null  float64\n",
      " 36  dst_host_srv_diff_host_rate  22544 non-null  float64\n",
      " 37  dst_host_serror_rate         22544 non-null  float64\n",
      " 38  dst_host_srv_serror_rate     22544 non-null  float64\n",
      " 39  dst_host_rerror_rate         22544 non-null  float64\n",
      " 40  dst_host_srv_rerror_rate     22544 non-null  float64\n",
      "dtypes: float64(15), int64(23), object(3)\n",
      "memory usage: 7.1+ MB\n"
     ]
    }
   ],
   "source": [
    "rawDfPh3.info()"
   ]
  },
  {
   "cell_type": "code",
   "execution_count": 3,
   "id": "cutting-spread",
   "metadata": {},
   "outputs": [
    {
     "name": "stdout",
     "output_type": "stream",
     "text": [
      "           duration     src_bytes     dst_bytes          land  wrong_fragment  \\\n",
      "count  22544.000000  2.254400e+04  2.254400e+04  22544.000000    22544.000000   \n",
      "mean     218.859076  1.039545e+04  2.056019e+03      0.000311        0.008428   \n",
      "std     1407.176612  4.727864e+05  2.121930e+04      0.017619        0.142599   \n",
      "min        0.000000  0.000000e+00  0.000000e+00      0.000000        0.000000   \n",
      "25%        0.000000  0.000000e+00  0.000000e+00      0.000000        0.000000   \n",
      "50%        0.000000  5.400000e+01  4.600000e+01      0.000000        0.000000   \n",
      "75%        0.000000  2.870000e+02  6.010000e+02      0.000000        0.000000   \n",
      "max    57715.000000  6.282565e+07  1.345927e+06      1.000000        3.000000   \n",
      "\n",
      "             urgent           hot  num_failed_logins     logged_in  \\\n",
      "count  22544.000000  22544.000000       22544.000000  22544.000000   \n",
      "mean       0.000710      0.105394           0.021647      0.442202   \n",
      "std        0.036473      0.928428           0.150328      0.496659   \n",
      "min        0.000000      0.000000           0.000000      0.000000   \n",
      "25%        0.000000      0.000000           0.000000      0.000000   \n",
      "50%        0.000000      0.000000           0.000000      0.000000   \n",
      "75%        0.000000      0.000000           0.000000      1.000000   \n",
      "max        3.000000    101.000000           4.000000      1.000000   \n",
      "\n",
      "       num_compromised  ...  dst_host_count  dst_host_srv_count  \\\n",
      "count     22544.000000  ...    22544.000000        22544.000000   \n",
      "mean          0.119899  ...      193.869411          140.750532   \n",
      "std           7.269597  ...       94.035663          111.783972   \n",
      "min           0.000000  ...        0.000000            0.000000   \n",
      "25%           0.000000  ...      121.000000           15.000000   \n",
      "50%           0.000000  ...      255.000000          168.000000   \n",
      "75%           0.000000  ...      255.000000          255.000000   \n",
      "max         796.000000  ...      255.000000          255.000000   \n",
      "\n",
      "       dst_host_same_srv_rate  dst_host_diff_srv_rate  \\\n",
      "count            22544.000000            22544.000000   \n",
      "mean                 0.608722                0.090540   \n",
      "std                  0.435688                0.220717   \n",
      "min                  0.000000                0.000000   \n",
      "25%                  0.070000                0.000000   \n",
      "50%                  0.920000                0.010000   \n",
      "75%                  1.000000                0.060000   \n",
      "max                  1.000000                1.000000   \n",
      "\n",
      "       dst_host_same_src_port_rate  dst_host_srv_diff_host_rate  \\\n",
      "count                 22544.000000                 22544.000000   \n",
      "mean                      0.132261                     0.019638   \n",
      "std                       0.306268                     0.085394   \n",
      "min                       0.000000                     0.000000   \n",
      "25%                       0.000000                     0.000000   \n",
      "50%                       0.000000                     0.000000   \n",
      "75%                       0.030000                     0.010000   \n",
      "max                       1.000000                     1.000000   \n",
      "\n",
      "       dst_host_serror_rate  dst_host_srv_serror_rate  dst_host_rerror_rate  \\\n",
      "count          22544.000000              22544.000000          22544.000000   \n",
      "mean               0.097814                  0.099426              0.233385   \n",
      "std                0.273139                  0.281866              0.387229   \n",
      "min                0.000000                  0.000000              0.000000   \n",
      "25%                0.000000                  0.000000              0.000000   \n",
      "50%                0.000000                  0.000000              0.000000   \n",
      "75%                0.000000                  0.000000              0.360000   \n",
      "max                1.000000                  1.000000              1.000000   \n",
      "\n",
      "       dst_host_srv_rerror_rate  \n",
      "count              22544.000000  \n",
      "mean                   0.226683  \n",
      "std                    0.400875  \n",
      "min                    0.000000  \n",
      "25%                    0.000000  \n",
      "50%                    0.000000  \n",
      "75%                    0.170000  \n",
      "max                    1.000000  \n",
      "\n",
      "[8 rows x 38 columns]\n"
     ]
    }
   ],
   "source": [
    "print(rawDfPh3.describe())"
   ]
  },
  {
   "cell_type": "markdown",
   "id": "gorgeous-cholesterol",
   "metadata": {},
   "source": [
    "### Gestion des valeur redondante "
   ]
  },
  {
   "cell_type": "code",
   "execution_count": 4,
   "id": "ambient-newspaper",
   "metadata": {},
   "outputs": [
    {
     "name": "stdout",
     "output_type": "stream",
     "text": [
      "<class 'pandas.core.frame.DataFrame'>\n",
      "RangeIndex: 22487 entries, 0 to 22486\n",
      "Data columns (total 41 columns):\n",
      " #   Column                       Non-Null Count  Dtype  \n",
      "---  ------                       --------------  -----  \n",
      " 0   duration                     22487 non-null  int64  \n",
      " 1   protocol_type                22487 non-null  object \n",
      " 2   service                      22487 non-null  object \n",
      " 3   flag                         22487 non-null  object \n",
      " 4   src_bytes                    22487 non-null  int64  \n",
      " 5   dst_bytes                    22487 non-null  int64  \n",
      " 6   land                         22487 non-null  int64  \n",
      " 7   wrong_fragment               22487 non-null  int64  \n",
      " 8   urgent                       22487 non-null  int64  \n",
      " 9   hot                          22487 non-null  int64  \n",
      " 10  num_failed_logins            22487 non-null  int64  \n",
      " 11  logged_in                    22487 non-null  int64  \n",
      " 12  num_compromised              22487 non-null  int64  \n",
      " 13  root_shell                   22487 non-null  int64  \n",
      " 14  su_attempted                 22487 non-null  int64  \n",
      " 15  num_root                     22487 non-null  int64  \n",
      " 16  num_file_creations           22487 non-null  int64  \n",
      " 17  num_shells                   22487 non-null  int64  \n",
      " 18  num_access_files             22487 non-null  int64  \n",
      " 19  num_outbound_cmds            22487 non-null  int64  \n",
      " 20  is_host_login                22487 non-null  int64  \n",
      " 21  is_guest_login               22487 non-null  int64  \n",
      " 22  count                        22487 non-null  int64  \n",
      " 23  srv_count                    22487 non-null  int64  \n",
      " 24  serror_rate                  22487 non-null  float64\n",
      " 25  srv_serror_rate              22487 non-null  float64\n",
      " 26  rerror_rate                  22487 non-null  float64\n",
      " 27  srv_rerror_rate              22487 non-null  float64\n",
      " 28  same_srv_rate                22487 non-null  float64\n",
      " 29  diff_srv_rate                22487 non-null  float64\n",
      " 30  srv_diff_host_rate           22487 non-null  float64\n",
      " 31  dst_host_count               22487 non-null  int64  \n",
      " 32  dst_host_srv_count           22487 non-null  int64  \n",
      " 33  dst_host_same_srv_rate       22487 non-null  float64\n",
      " 34  dst_host_diff_srv_rate       22487 non-null  float64\n",
      " 35  dst_host_same_src_port_rate  22487 non-null  float64\n",
      " 36  dst_host_srv_diff_host_rate  22487 non-null  float64\n",
      " 37  dst_host_serror_rate         22487 non-null  float64\n",
      " 38  dst_host_srv_serror_rate     22487 non-null  float64\n",
      " 39  dst_host_rerror_rate         22487 non-null  float64\n",
      " 40  dst_host_srv_rerror_rate     22487 non-null  float64\n",
      "dtypes: float64(15), int64(23), object(3)\n",
      "memory usage: 7.0+ MB\n"
     ]
    }
   ],
   "source": [
    "rawDfPh3=  rawDfPh3.drop_duplicates(keep='first').reset_index(drop=True)# dellting of all the rows that are duplicate"
   ]
  },
  {
   "cell_type": "markdown",
   "id": "documented-personality",
   "metadata": {},
   "source": [
    "### Gestion des valeur null"
   ]
  },
  {
   "cell_type": "code",
   "execution_count": 5,
   "id": "ignored-window",
   "metadata": {},
   "outputs": [
    {
     "name": "stdout",
     "output_type": "stream",
     "text": [
      " affichage des valeur null par column :  duration                       0\n",
      "protocol_type                  0\n",
      "service                        0\n",
      "flag                           0\n",
      "src_bytes                      0\n",
      "dst_bytes                      0\n",
      "land                           0\n",
      "wrong_fragment                 0\n",
      "urgent                         0\n",
      "hot                            0\n",
      "num_failed_logins              0\n",
      "logged_in                      0\n",
      "num_compromised                0\n",
      "root_shell                     0\n",
      "su_attempted                   0\n",
      "num_root                       0\n",
      "num_file_creations             0\n",
      "num_shells                     0\n",
      "num_access_files               0\n",
      "num_outbound_cmds              0\n",
      "is_host_login                  0\n",
      "is_guest_login                 0\n",
      "count                          0\n",
      "srv_count                      0\n",
      "serror_rate                    0\n",
      "srv_serror_rate                0\n",
      "rerror_rate                    0\n",
      "srv_rerror_rate                0\n",
      "same_srv_rate                  0\n",
      "diff_srv_rate                  0\n",
      "srv_diff_host_rate             0\n",
      "dst_host_count                 0\n",
      "dst_host_srv_count             0\n",
      "dst_host_same_srv_rate         0\n",
      "dst_host_diff_srv_rate         0\n",
      "dst_host_same_src_port_rate    0\n",
      "dst_host_srv_diff_host_rate    0\n",
      "dst_host_serror_rate           0\n",
      "dst_host_srv_serror_rate       0\n",
      "dst_host_rerror_rate           0\n",
      "dst_host_srv_rerror_rate       0\n",
      "dtype: int64\n"
     ]
    }
   ],
   "source": [
    "print(' affichage des valeur null par column : ', rawDfPh3.isnull().sum()) #afficher lles valeur null par column \n",
    "transformedDf= rawDfPh3.fillna(rawDfPh3.median())# remplire les valeur nulle par la valeur median , nous navont pas de valuer null pour notre cas "
   ]
  },
  {
   "cell_type": "markdown",
   "id": "dated-private",
   "metadata": {},
   "source": [
    "### Transformation des donner \n",
    "utilisation dune codification one hoting "
   ]
  },
  {
   "cell_type": "code",
   "execution_count": 6,
   "id": "known-campus",
   "metadata": {},
   "outputs": [],
   "source": [
    "txtDataColumn = ['protocol_type','service','flag']\n",
    "transformedDf = pd.get_dummies(transformedDf,columns=txtDataColumn) "
   ]
  },
  {
   "cell_type": "markdown",
   "id": "automatic-cross",
   "metadata": {},
   "source": [
    "## aplilcation du k mean "
   ]
  },
  {
   "cell_type": "code",
   "execution_count": 7,
   "id": "divided-solid",
   "metadata": {},
   "outputs": [
    {
     "data": {
      "text/plain": [
       "KMeans(n_clusters=2, random_state=10)"
      ]
     },
     "execution_count": 7,
     "metadata": {},
     "output_type": "execute_result"
    }
   ],
   "source": [
    "from sklearn.cluster import KMeans\n",
    "modelKmean=KMeans(n_clusters=2,  init='k-means++', random_state=10 )\n",
    "modelKmean.fit(transformedDf)"
   ]
  },
  {
   "cell_type": "markdown",
   "id": "pediatric-rotation",
   "metadata": {},
   "source": [
    "## Question 2 \n",
    "### on utilisera le coefficient de sihlouette "
   ]
  },
  {
   "cell_type": "code",
   "execution_count": 8,
   "id": "advanced-directory",
   "metadata": {},
   "outputs": [
    {
     "name": "stdout",
     "output_type": "stream",
     "text": [
      "la shlouette de notre k-mean :  1.0\n"
     ]
    }
   ],
   "source": [
    "\n",
    "from sklearn.metrics import silhouette_score\n",
    "shilouette =silhouette_score(transformedDf,modelKmean.labels_,  metric = 'euclidean')\n",
    "print(\"la shlouette de notre k-mean : \", round(shilouette,3))"
   ]
  },
  {
   "cell_type": "markdown",
   "id": "british-period",
   "metadata": {},
   "source": [
    "### enregistrement du fichier fromPhase3.csv qui est le fichier phase2.cvs avec une column class obtenue de apartire du clustring "
   ]
  },
  {
   "cell_type": "code",
   "execution_count": 9,
   "id": "convenient-firewall",
   "metadata": {},
   "outputs": [
    {
     "name": "stdout",
     "output_type": "stream",
     "text": [
      "Counter({0: 22485, 1: 2})\n",
      "le ficheir a bien etait enregister \n"
     ]
    }
   ],
   "source": [
    "from collections import Counter\n",
    "labels = modelKmean.labels_\n",
    "print( Counter(labels))\n",
    "rawDfPh3['class'] = labels #ajout dune colone class au donner de la phase 3\n",
    "txtDataColumn = ['protocol_type','service','flag']\n",
    "rawDfPh3 = rawDfPh3.drop(txtDataColumn, axis= 1)\n",
    "rawDfPh3.to_csv('files/fromPhase3.csv',index = True, index_label=\"index\")\n",
    "print('le ficheir a bien etait enregister ')"
   ]
  },
  {
   "cell_type": "markdown",
   "id": "demonstrated-print",
   "metadata": {},
   "source": [
    "## Question 3 \n",
    "### Oui, pour avoir un modèle plus robuste en doit faire un modèle qui ces entrainer sur une quantité de donner importante,  pour réaliser cela on doit entrainer un nouveaux modèle sur les donner du fichier phase2 ainsi que ceux de pahse3, en utilisera le fichier créer dans la phase 3 (\"fromPhase3.csv\") pour l’implémentation de la solution, la solution sera implémenter dans un autre fichier nommer \"implementation.ipynb\""
   ]
  },
  {
   "cell_type": "markdown",
   "id": "cosmetic-bench",
   "metadata": {},
   "source": [
    "## J’ai préfère faire un nouveau fichier .ipynb aux lieux de de tout faire dans un même fichier Jupiter pour des soucis de clarté, d'où l’exigence d’UN fichier supplémentaire ‘fromPhase3.csv ‘ pour stocker le résultat de cette phase qui seront utiliser dans ‘implementation.ipynb’"
   ]
  },
  {
   "cell_type": "code",
   "execution_count": null,
   "id": "threaded-sierra",
   "metadata": {},
   "outputs": [],
   "source": []
  }
 ],
 "metadata": {
  "kernelspec": {
   "display_name": "Python 3",
   "language": "python",
   "name": "python3"
  },
  "language_info": {
   "codemirror_mode": {
    "name": "ipython",
    "version": 3
   },
   "file_extension": ".py",
   "mimetype": "text/x-python",
   "name": "python",
   "nbconvert_exporter": "python",
   "pygments_lexer": "ipython3",
   "version": "3.9.1"
  }
 },
 "nbformat": 4,
 "nbformat_minor": 5
}
