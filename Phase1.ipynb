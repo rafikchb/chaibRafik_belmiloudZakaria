{
 "cells": [
  {
   "cell_type": "markdown",
   "id": "clinical-creek",
   "metadata": {},
   "source": [
    "# question 1.1 "
   ]
  },
  {
   "cell_type": "code",
   "execution_count": 1,
   "id": "renewable-coating",
   "metadata": {},
   "outputs": [],
   "source": [
    "import pandas as pd \n",
    "df = pd.read_csv(\"files/Phase1.csv\") "
   ]
  },
  {
   "cell_type": "markdown",
   "id": "equivalent-scenario",
   "metadata": {},
   "source": [
    "## description des donner  "
   ]
  },
  {
   "cell_type": "code",
   "execution_count": 2,
   "id": "pregnant-challenge",
   "metadata": {
    "scrolled": false
   },
   "outputs": [
    {
     "name": "stdout",
     "output_type": "stream",
     "text": [
      "<class 'pandas.core.frame.DataFrame'>\n",
      "RangeIndex: 13599 entries, 0 to 13598\n",
      "Data columns (total 43 columns):\n",
      " #   Column                       Non-Null Count  Dtype  \n",
      "---  ------                       --------------  -----  \n",
      " 0   Unnamed: 0                   13599 non-null  int64  \n",
      " 1   duration                     13599 non-null  int64  \n",
      " 2   protocol_type                13599 non-null  object \n",
      " 3   service                      13599 non-null  object \n",
      " 4   flag                         13599 non-null  object \n",
      " 5   src_bytes                    13599 non-null  int64  \n",
      " 6   dst_bytes                    13599 non-null  int64  \n",
      " 7   land                         13599 non-null  int64  \n",
      " 8   wrong_fragment               13599 non-null  int64  \n",
      " 9   urgent                       13599 non-null  int64  \n",
      " 10  hot                          13599 non-null  int64  \n",
      " 11  num_failed_logins            13599 non-null  int64  \n",
      " 12  logged_in                    13599 non-null  int64  \n",
      " 13  num_compromised              13599 non-null  int64  \n",
      " 14  root_shell                   13599 non-null  int64  \n",
      " 15  su_attempted                 13599 non-null  int64  \n",
      " 16  num_root                     13599 non-null  int64  \n",
      " 17  num_file_creations           13599 non-null  int64  \n",
      " 18  num_shells                   13599 non-null  int64  \n",
      " 19  num_access_files             13599 non-null  int64  \n",
      " 20  num_outbound_cmds            13599 non-null  int64  \n",
      " 21  is_host_login                13599 non-null  int64  \n",
      " 22  is_guest_login               13599 non-null  int64  \n",
      " 23  count                        13599 non-null  int64  \n",
      " 24  srv_count                    13599 non-null  int64  \n",
      " 25  serror_rate                  13599 non-null  float64\n",
      " 26  srv_serror_rate              13599 non-null  float64\n",
      " 27  rerror_rate                  13599 non-null  float64\n",
      " 28  srv_rerror_rate              13599 non-null  float64\n",
      " 29  same_srv_rate                13599 non-null  float64\n",
      " 30  diff_srv_rate                13599 non-null  float64\n",
      " 31  srv_diff_host_rate           13599 non-null  float64\n",
      " 32  dst_host_count               13599 non-null  int64  \n",
      " 33  dst_host_srv_count           13599 non-null  int64  \n",
      " 34  dst_host_same_srv_rate       13599 non-null  float64\n",
      " 35  dst_host_diff_srv_rate       13599 non-null  float64\n",
      " 36  dst_host_same_src_port_rate  13599 non-null  float64\n",
      " 37  dst_host_srv_diff_host_rate  13599 non-null  float64\n",
      " 38  dst_host_serror_rate         13599 non-null  float64\n",
      " 39  dst_host_srv_serror_rate     13599 non-null  float64\n",
      " 40  dst_host_rerror_rate         13599 non-null  float64\n",
      " 41  dst_host_srv_rerror_rate     13599 non-null  float64\n",
      " 42  class                        13599 non-null  object \n",
      "dtypes: float64(15), int64(24), object(4)\n",
      "memory usage: 4.5+ MB\n"
     ]
    }
   ],
   "source": [
    "df.info()"
   ]
  },
  {
   "cell_type": "code",
   "execution_count": 3,
   "id": "cutting-spread",
   "metadata": {},
   "outputs": [
    {
     "name": "stdout",
     "output_type": "stream",
     "text": [
      "         Unnamed: 0      duration     src_bytes     dst_bytes          land  \\\n",
      "count  13599.000000  13599.000000  1.359900e+04  1.359900e+04  13599.000000   \n",
      "mean   12495.645636    182.747776  1.164666e+04  4.352227e+03      0.000074   \n",
      "std     7333.313621   1371.063164  1.723699e+05  6.941981e+04      0.008575   \n",
      "min        0.000000      0.000000  0.000000e+00  0.000000e+00      0.000000   \n",
      "25%     6113.500000      0.000000  1.050000e+02  8.100000e+01      0.000000   \n",
      "50%    12521.000000      0.000000  2.320000e+02  3.700000e+02      0.000000   \n",
      "75%    18848.000000      0.000000  3.240000e+02  2.009000e+03      0.000000   \n",
      "max    25186.000000  36613.000000  7.665876e+06  5.131424e+06      1.000000   \n",
      "\n",
      "       wrong_fragment   urgent           hot  num_failed_logins     logged_in  \\\n",
      "count    13599.000000  13599.0  13599.000000       13599.000000  13599.000000   \n",
      "mean         0.001177      0.0      0.222149           0.001177      0.701669   \n",
      "std          0.058150      0.0      2.340105           0.043711      0.457542   \n",
      "min          0.000000      0.0      0.000000           0.000000      0.000000   \n",
      "25%          0.000000      0.0      0.000000           0.000000      0.000000   \n",
      "50%          0.000000      0.0      0.000000           0.000000      1.000000   \n",
      "75%          0.000000      0.0      0.000000           0.000000      1.000000   \n",
      "max          3.000000      0.0     77.000000           3.000000      1.000000   \n",
      "\n",
      "       ...  dst_host_count  dst_host_srv_count  dst_host_same_srv_rate  \\\n",
      "count  ...    13599.000000        13599.000000            13599.000000   \n",
      "mean   ...      149.209795          187.626664                0.803486   \n",
      "std    ...      101.645694           94.248057                0.331422   \n",
      "min    ...        0.000000            0.000000                0.000000   \n",
      "25%    ...       41.000000          110.000000                0.720000   \n",
      "50%    ...      161.000000          255.000000                1.000000   \n",
      "75%    ...      255.000000          255.000000                1.000000   \n",
      "max    ...      255.000000          255.000000                1.000000   \n",
      "\n",
      "       dst_host_diff_srv_rate  dst_host_same_src_port_rate  \\\n",
      "count            13599.000000                 13599.000000   \n",
      "mean                 0.041635                     0.121749   \n",
      "std                  0.130418                     0.255221   \n",
      "min                  0.000000                     0.000000   \n",
      "25%                  0.000000                     0.000000   \n",
      "50%                  0.000000                     0.010000   \n",
      "75%                  0.020000                     0.080000   \n",
      "max                  1.000000                     1.000000   \n",
      "\n",
      "       dst_host_srv_diff_host_rate  dst_host_serror_rate  \\\n",
      "count                 13599.000000          13599.000000   \n",
      "mean                      0.025695              0.021073   \n",
      "std                       0.068712              0.122787   \n",
      "min                       0.000000              0.000000   \n",
      "25%                       0.000000              0.000000   \n",
      "50%                       0.000000              0.000000   \n",
      "75%                       0.030000              0.000000   \n",
      "max                       1.000000              1.000000   \n",
      "\n",
      "       dst_host_srv_serror_rate  dst_host_rerror_rate  \\\n",
      "count              13599.000000          13599.000000   \n",
      "mean                   0.013594              0.046417   \n",
      "std                    0.101307              0.195325   \n",
      "min                    0.000000              0.000000   \n",
      "25%                    0.000000              0.000000   \n",
      "50%                    0.000000              0.000000   \n",
      "75%                    0.000000              0.000000   \n",
      "max                    1.000000              1.000000   \n",
      "\n",
      "       dst_host_srv_rerror_rate  \n",
      "count              13599.000000  \n",
      "mean                   0.044595  \n",
      "std                    0.191117  \n",
      "min                    0.000000  \n",
      "25%                    0.000000  \n",
      "50%                    0.000000  \n",
      "75%                    0.000000  \n",
      "max                    1.000000  \n",
      "\n",
      "[8 rows x 39 columns]\n"
     ]
    }
   ],
   "source": [
    "print(df.describe())"
   ]
  },
  {
   "cell_type": "markdown",
   "id": "documented-personality",
   "metadata": {},
   "source": [
    "## gestion des valeur null"
   ]
  },
  {
   "cell_type": "code",
   "execution_count": 4,
   "id": "ignored-window",
   "metadata": {},
   "outputs": [
    {
     "name": "stdout",
     "output_type": "stream",
     "text": [
      " affichage des valeur null par column :  Unnamed: 0                     0\n",
      "duration                       0\n",
      "protocol_type                  0\n",
      "service                        0\n",
      "flag                           0\n",
      "src_bytes                      0\n",
      "dst_bytes                      0\n",
      "land                           0\n",
      "wrong_fragment                 0\n",
      "urgent                         0\n",
      "hot                            0\n",
      "num_failed_logins              0\n",
      "logged_in                      0\n",
      "num_compromised                0\n",
      "root_shell                     0\n",
      "su_attempted                   0\n",
      "num_root                       0\n",
      "num_file_creations             0\n",
      "num_shells                     0\n",
      "num_access_files               0\n",
      "num_outbound_cmds              0\n",
      "is_host_login                  0\n",
      "is_guest_login                 0\n",
      "count                          0\n",
      "srv_count                      0\n",
      "serror_rate                    0\n",
      "srv_serror_rate                0\n",
      "rerror_rate                    0\n",
      "srv_rerror_rate                0\n",
      "same_srv_rate                  0\n",
      "diff_srv_rate                  0\n",
      "srv_diff_host_rate             0\n",
      "dst_host_count                 0\n",
      "dst_host_srv_count             0\n",
      "dst_host_same_srv_rate         0\n",
      "dst_host_diff_srv_rate         0\n",
      "dst_host_same_src_port_rate    0\n",
      "dst_host_srv_diff_host_rate    0\n",
      "dst_host_serror_rate           0\n",
      "dst_host_srv_serror_rate       0\n",
      "dst_host_rerror_rate           0\n",
      "dst_host_srv_rerror_rate       0\n",
      "class                          0\n",
      "dtype: int64\n"
     ]
    }
   ],
   "source": [
    "print(' affichage des valeur null par column : ', df.isnull().sum()) #afficher lles valeur null par column \n",
    "df = df.fillna(df.median())# remplire les valeur nulle par la valeur median , nous navont pas de valuer null pour notre cas "
   ]
  },
  {
   "cell_type": "markdown",
   "id": "urban-brighton",
   "metadata": {},
   "source": [
    "## gestion des valeur redondante "
   ]
  },
  {
   "cell_type": "code",
   "execution_count": 5,
   "id": "forbidden-stress",
   "metadata": {},
   "outputs": [],
   "source": [
    "df= df.drop_duplicates(keep='first').reset_index()# dellting of all the rows that are duplicate "
   ]
  },
  {
   "cell_type": "markdown",
   "id": "dated-private",
   "metadata": {},
   "source": [
    "## transformation des donner \n",
    "utilisation dune codification one hoting "
   ]
  },
  {
   "cell_type": "code",
   "execution_count": 6,
   "id": "known-campus",
   "metadata": {},
   "outputs": [],
   "source": [
    "txtDataColumn = ['protocol_type','service','flag']\n",
    "df = pd.get_dummies(df,columns=txtDataColumn) "
   ]
  },
  {
   "cell_type": "markdown",
   "id": "ecological-stroke",
   "metadata": {},
   "source": [
    "## les info les plus pertinente a garder "
   ]
  },
  {
   "cell_type": "code",
   "execution_count": 7,
   "id": "right-interference",
   "metadata": {},
   "outputs": [
    {
     "name": "stdout",
     "output_type": "stream",
     "text": [
      "pourcentage des noraml : 98.897 %\n",
      "pourcentage des anomaly : 1.103 %\n"
     ]
    }
   ],
   "source": [
    "t = df[\"class\"].value_counts()\n",
    "print(\"pourcentage des noraml :\",round( t[\"normal\"]*100/df[\"class\"].count(), 3),\"%\")\n",
    "print(\"pourcentage des anomaly :\",round(t[\"anomaly\"]*100/df[\"class\"].count(), 3),\"%\")"
   ]
  },
  {
   "cell_type": "markdown",
   "id": "composite-galaxy",
   "metadata": {},
   "source": [
    "# qustion 1.2"
   ]
  },
  {
   "cell_type": "code",
   "execution_count": 8,
   "id": "olympic-yacht",
   "metadata": {},
   "outputs": [
    {
     "name": "stdout",
     "output_type": "stream",
     "text": [
      "score obtenue du premier modelle  1.0\n"
     ]
    }
   ],
   "source": [
    "from sklearn.model_selection import train_test_split\n",
    "from sklearn.neighbors import KNeighborsClassifier\n",
    "x = df.drop(\"class\",axis = 1) #getting the features of the data in a matrix \n",
    "y = df[\"class\"]  # getting the label of the data in a  vector \n",
    "X_train, X_test , y_train , y_test = train_test_split(x , y, test_size=0.4,stratify=y ) # spliting the dataset into trainset and test set \n",
    "model = KNeighborsClassifier(n_neighbors=5, metric='euclidean') # uh 3nn avec manhathan\n",
    "model.fit(X_train,y_train)\n",
    "print(\"score obtenue du premier modelle \",model.score(X_test, y_test))"
   ]
  },
  {
   "cell_type": "markdown",
   "id": "controlled-despite",
   "metadata": {},
   "source": [
    "# question 1.3\n"
   ]
  },
  {
   "cell_type": "markdown",
   "id": "cloudy-chaos",
   "metadata": {},
   "source": [
    "definition de la fonction "
   ]
  },
  {
   "cell_type": "code",
   "execution_count": 9,
   "id": "numerical-jefferson",
   "metadata": {},
   "outputs": [],
   "source": [
    "from sklearn.metrics import  confusion_matrix\n",
    "def functionP(y_test,y_pred): \n",
    "   confusion = confusion_matrix(y_test,y_pred)\n",
    "   print(confusion)\n",
    "   print(\"\\nVP : \",confusion[0][0],'\\n',\n",
    "   \"FP : \",confusion[0][1],'\\n',\n",
    "   \"VN : \",confusion[1][1],'\\n',\n",
    "   \"FN : \",confusion[1][0],'\\n')"
   ]
  },
  {
   "cell_type": "markdown",
   "id": "veterinary-silver",
   "metadata": {},
   "source": [
    "#question 1.4\n"
   ]
  },
  {
   "cell_type": "code",
   "execution_count": 11,
   "id": "lesbian-probe",
   "metadata": {},
   "outputs": [
    {
     "name": "stdout",
     "output_type": "stream",
     "text": [
      "les meilleur parametre pour notre knn sont :  {'metric': 'manhattan', 'n_neighbors': 3}\n",
      "\n",
      "pour la class ANOMALY :\n",
      "precision =  1.0\n",
      "recall =  1.0\n",
      "f1_score =  1.0\n",
      "\n",
      "\n",
      "pour la class NORMAL :\n",
      "precision= 1.0\n",
      "recall= 1.0\n",
      "f1_score  1.0\n"
     ]
    }
   ],
   "source": [
    "from sklearn.model_selection import GridSearchCV\n",
    "from sklearn.metrics import f1_score\n",
    "from sklearn.metrics import precision_score, recall_score\n",
    "x = df.drop(\"class\",axis = 1) #getting the features of the data in a matrix \n",
    "y = df[\"class\"] \n",
    "X_train, X_test , y_train , y_test = train_test_split(x , y, test_size=0.3,stratify=y ) \n",
    "param_grid= {'n_neighbors' : [3,5,7,9,11,13,15,17], \n",
    "'metric' : ['manhattan', 'euclidean']\n",
    "}\n",
    "grid = GridSearchCV(KNeighborsClassifier(),param_grid, cv = 5) #initiamlisation du grid estimator \n",
    "grid.fit(X_train, y_train)\n",
    "print('les meilleur parametre pour notre knn sont : ', grid.best_params_)\n",
    "bestEstimator = grid.best_estimator_#on garde le modelle avec les mielleur parametre \n",
    "y_pred=bestEstimator.predict(X_test) \n",
    "print('\\npour la class ANOMALY :')\n",
    "print('precision = ',precision_score(y_test,y_pred, pos_label = 'anomaly'))\n",
    "print('recall = ',recall_score(y_test,y_pred,pos_label = 'anomaly'))\n",
    "print('f1_score = ', f1_score(y_test, y_pred, pos_label = 'anomaly'))\n",
    "print(\"\\n\")\n",
    "print('pour la class NORMAL :')\n",
    "print('precision=',precision_score(y_test,y_pred, pos_label = 'normal'))\n",
    "print('recall=',recall_score(y_test,y_pred,pos_label = 'normal'))\n",
    "print('f1_score ', f1_score(y_test, y_pred, pos_label = 'normal'))\n"
   ]
  },
  {
   "cell_type": "markdown",
   "id": "distinct-rwanda",
   "metadata": {},
   "source": [
    "## reponse a la dernier question :\n",
    "### on a un desiquilibre entre le nombre des donner de la class anomaly est ceux de la class norml avec 98.897 % des donner come  Anomaly et 1.103 % comme normal , ce desiquilibre nous conduit a un probleme connu sous le nom de \"Imbalanced Classification\", dou le score aberant de 100% pour le f1 score "
   ]
  }
 ],
 "metadata": {
  "kernelspec": {
   "display_name": "Python 3",
   "language": "python",
   "name": "python3"
  },
  "language_info": {
   "codemirror_mode": {
    "name": "ipython",
    "version": 3
   },
   "file_extension": ".py",
   "mimetype": "text/x-python",
   "name": "python",
   "nbconvert_exporter": "python",
   "pygments_lexer": "ipython3",
   "version": "3.9.1"
  }
 },
 "nbformat": 4,
 "nbformat_minor": 5
}
